{
 "cells": [
  {
   "cell_type": "markdown",
   "id": "c30bccf6",
   "metadata": {},
   "source": [
    "## Q1. Why do we call Python as a general purpose and high-level programming language?"
   ]
  },
  {
   "cell_type": "markdown",
   "id": "bc86c18f",
   "metadata": {},
   "source": [
    "A general-purpose language is a computer language that is broadly applicable across application domains, and lacks specialized features for a particular domain.\n",
    "Python is a general-purpose language, meaning it can be used to create a variety of different programs and isn't specialized for any specific problems. This versatility, along with its beginner-friendliness."
   ]
  },
  {
   "cell_type": "markdown",
   "id": "fc4440e4",
   "metadata": {},
   "source": [
    "## Q2. Why is Python called a dynamically typed language?"
   ]
  },
  {
   "cell_type": "markdown",
   "id": "f1e4c06f",
   "metadata": {},
   "source": [
    "In Python, we dont have to specifically define the data type of a variable before assignment. The data type of a variable is defined during the run time and is assigned to the variable. So it is called dynamically typed language."
   ]
  },
  {
   "cell_type": "markdown",
   "id": "68a57821",
   "metadata": {},
   "source": [
    "## Q3. List some pros and cons of Python programming language?"
   ]
  },
  {
   "cell_type": "markdown",
   "id": "d330a44b",
   "metadata": {},
   "source": [
    "**Pros of a Python**\n",
    "\n",
    "Python is beginner friendly,Large community, Extensive library,Highly scalable, dynamic language, and can be embedded\n",
    "\n",
    "**Cons of a Python**\n",
    "\n",
    "Slower than compiled languages, High Memory Consumption,Speed and non native mobile environment\n"
   ]
  },
  {
   "cell_type": "markdown",
   "id": "2a275ce9",
   "metadata": {},
   "source": [
    "## Q4. In what all domains can we use Python?"
   ]
  },
  {
   "cell_type": "markdown",
   "id": "8a2b552e",
   "metadata": {},
   "source": [
    "**Python can be used in **\n",
    "\n",
    "Application Development\n",
    "\n",
    "Gaming\n",
    "\n",
    "Machine learning & AI\n",
    "\n",
    "Automation\n",
    "\n",
    "Web scrapping\n",
    "\n",
    "GUI Applications\n",
    "\n",
    "Web applications\n",
    "\n",
    "NLP\n",
    "\n",
    "Scientific Programming Etc.,\n"
   ]
  },
  {
   "cell_type": "markdown",
   "id": "a171f438",
   "metadata": {},
   "source": [
    "##  Q5. What are variable and how can we declare them?"
   ]
  },
  {
   "cell_type": "markdown",
   "id": "ed65fb24",
   "metadata": {},
   "source": [
    "Variable are named that are assigned to a value in python and can be used to acces the value by calling the variable"
   ]
  },
  {
   "cell_type": "markdown",
   "id": "e3baee46",
   "metadata": {},
   "source": [
    "## Q6. How can we take an input from the user in Python?"
   ]
  },
  {
   "cell_type": "markdown",
   "id": "33a4fd64",
   "metadata": {},
   "source": [
    "We use **input()** function to take an input from the user"
   ]
  },
  {
   "cell_type": "markdown",
   "id": "7442b372",
   "metadata": {},
   "source": [
    "## Q7. What is the default datatype of the value that has been taken as an input using input() function?"
   ]
  },
  {
   "cell_type": "markdown",
   "id": "0b7d47e6",
   "metadata": {},
   "source": [
    "The default type of input function is string data type"
   ]
  },
  {
   "cell_type": "markdown",
   "id": "a132291e",
   "metadata": {},
   "source": [
    "## Q8. What is type casting?"
   ]
  },
  {
   "cell_type": "markdown",
   "id": "5e76ab16",
   "metadata": {},
   "source": [
    "Changing the datatype of variable/value from one data type to other is called type casting"
   ]
  },
  {
   "cell_type": "markdown",
   "id": "cea89735",
   "metadata": {},
   "source": [
    "## Q9. Can we take more than one input from the user using single input() function? If yes, how? If no, why?"
   ]
  },
  {
   "cell_type": "markdown",
   "id": "aa11a02e",
   "metadata": {},
   "source": [
    "Yes,We can take multiple inputs with a single input function by using **split()** function"
   ]
  },
  {
   "cell_type": "markdown",
   "id": "c891f164",
   "metadata": {},
   "source": [
    "## Q10. What are keywords?"
   ]
  },
  {
   "cell_type": "markdown",
   "id": "b87822bb",
   "metadata": {},
   "source": [
    "Python keyword is specially reserved words with specific meanings and purposes. They are different from built-in functions and types."
   ]
  },
  {
   "cell_type": "markdown",
   "id": "c52f6d45",
   "metadata": {},
   "source": [
    "## Q11. Can we use keywords as a variable? Support your answer with reason."
   ]
  },
  {
   "cell_type": "markdown",
   "id": "fdbf0916",
   "metadata": {},
   "source": [
    "No, We cannot use keywords as variables , As the keywords are already assigned to a specific function in pythob,if we use the same keyword again for a different task, it'll give an error and cannot be executed"
   ]
  },
  {
   "cell_type": "markdown",
   "id": "84dc990e",
   "metadata": {},
   "source": [
    "## Q12. What is indentation? What's the use of indentaion in Python?"
   ]
  },
  {
   "cell_type": "markdown",
   "id": "80e328e6",
   "metadata": {},
   "source": [
    "Indentation refers to the spaces at the beginning of a code line. the indentation in Python is very important. Python uses indentation to indicate a block of code."
   ]
  },
  {
   "cell_type": "markdown",
   "id": "c42a139d",
   "metadata": {},
   "source": [
    "## Q13. How can we throw some output in Python?"
   ]
  },
  {
   "cell_type": "markdown",
   "id": "4f010779",
   "metadata": {},
   "source": [
    "We can display an output by using **print()** function in Python"
   ]
  },
  {
   "cell_type": "markdown",
   "id": "36e2f653",
   "metadata": {},
   "source": [
    "## Q14. What are operators in Python?"
   ]
  },
  {
   "cell_type": "markdown",
   "id": "0d8ad146",
   "metadata": {},
   "source": [
    "In Python, operators are special symbols that designate that some sort of computation should be performed. The values that an operator acts on are called operands.\n",
    "Example; +,-,*,/,<,>......."
   ]
  },
  {
   "cell_type": "markdown",
   "id": "3a9906dc",
   "metadata": {},
   "source": [
    "## Q15. What is difference between / and // operators?"
   ]
  },
  {
   "cell_type": "markdown",
   "id": "47db2621",
   "metadata": {},
   "source": [
    "In Python '/' is used for division and '//' is used for floor division"
   ]
  },
  {
   "cell_type": "markdown",
   "id": "94bce918",
   "metadata": {},
   "source": [
    "## Q16. Write a code that gives following as an output."
   ]
  },
  {
   "cell_type": "code",
   "execution_count": 3,
   "id": "617d3b7e",
   "metadata": {},
   "outputs": [
    {
     "data": {
      "text/plain": [
       "'iNeuroniNeuroniNeuroniNeuron'"
      ]
     },
     "execution_count": 3,
     "metadata": {},
     "output_type": "execute_result"
    }
   ],
   "source": [
    "'iNeuron'*4"
   ]
  },
  {
   "cell_type": "markdown",
   "id": "623d89f5",
   "metadata": {},
   "source": [
    "## Q17. Write a code to take a number as an input from the user and check if the number is odd or even."
   ]
  },
  {
   "cell_type": "code",
   "execution_count": 5,
   "id": "12c8a807",
   "metadata": {},
   "outputs": [
    {
     "name": "stdout",
     "output_type": "stream",
     "text": [
      "Enter a number : 10\n",
      "10  is an Even number\n"
     ]
    }
   ],
   "source": [
    "num = int(input('Enter a number : '))\n",
    "if num%2==0:\n",
    "    print(num, ' is an Even number')\n",
    "else:\n",
    "    print(num, ' is an Odd number')"
   ]
  },
  {
   "cell_type": "markdown",
   "id": "70daf8ed",
   "metadata": {},
   "source": [
    "## Q18. What are boolean operator?"
   ]
  },
  {
   "cell_type": "markdown",
   "id": "81e36bcc",
   "metadata": {},
   "source": [
    "Boolean is a type of value that can be either **True** or **False**,  logical operators **and**, or **and** **not** are referred to as boolean operators"
   ]
  },
  {
   "cell_type": "markdown",
   "id": "b64a0c36",
   "metadata": {},
   "source": [
    "## Q19. What will the output of the following?\n",
    "\n",
    "1 or 0\n",
    "\n",
    "0 and 0\n",
    "\n",
    "True and False and True\n",
    "\n",
    "1 or 0 or 0"
   ]
  },
  {
   "cell_type": "code",
   "execution_count": 6,
   "id": "605dbed2",
   "metadata": {},
   "outputs": [
    {
     "data": {
      "text/plain": [
       "1"
      ]
     },
     "execution_count": 6,
     "metadata": {},
     "output_type": "execute_result"
    }
   ],
   "source": [
    "1 or 0"
   ]
  },
  {
   "cell_type": "code",
   "execution_count": 7,
   "id": "a09c6cdc",
   "metadata": {},
   "outputs": [
    {
     "data": {
      "text/plain": [
       "0"
      ]
     },
     "execution_count": 7,
     "metadata": {},
     "output_type": "execute_result"
    }
   ],
   "source": [
    "0 and 0"
   ]
  },
  {
   "cell_type": "code",
   "execution_count": 8,
   "id": "56ee33d7",
   "metadata": {},
   "outputs": [
    {
     "data": {
      "text/plain": [
       "False"
      ]
     },
     "execution_count": 8,
     "metadata": {},
     "output_type": "execute_result"
    }
   ],
   "source": [
    "True and False and True"
   ]
  },
  {
   "cell_type": "code",
   "execution_count": 9,
   "id": "a1e467e5",
   "metadata": {},
   "outputs": [
    {
     "data": {
      "text/plain": [
       "1"
      ]
     },
     "execution_count": 9,
     "metadata": {},
     "output_type": "execute_result"
    }
   ],
   "source": [
    "1 or 0 or 0"
   ]
  },
  {
   "cell_type": "markdown",
   "id": "536b44d9",
   "metadata": {},
   "source": [
    "## Q20. What are conditional statements in Python?"
   ]
  },
  {
   "cell_type": "markdown",
   "id": "acf2036e",
   "metadata": {},
   "source": [
    "Conditional Statement in Python perform different computations or actions depending on whether a specific Boolean constraint evaluates to true or false. Conditional statements are handled by IF and ELSE statements in Python"
   ]
  },
  {
   "cell_type": "markdown",
   "id": "7c1db3ce",
   "metadata": {},
   "source": [
    "## Q21. What is use of 'if', 'elif' and 'else' keywords?"
   ]
  },
  {
   "cell_type": "markdown",
   "id": "f5acf581",
   "metadata": {},
   "source": [
    "If-elif-else statement is used in Python for decision-making i.e the program will evaluate test expression and will execute the remaining statements only if the given test expression turns out to be true. This allows validation for multiple expressions."
   ]
  },
  {
   "cell_type": "markdown",
   "id": "d22de418",
   "metadata": {},
   "source": [
    "## Q22. Write a code to take the age of person as an input and if age >= 18 display \"I can vote\". If age is < 18 display \"I can't vote\"."
   ]
  },
  {
   "cell_type": "code",
   "execution_count": 10,
   "id": "c974e6f6",
   "metadata": {},
   "outputs": [
    {
     "name": "stdout",
     "output_type": "stream",
     "text": [
      "Enter an age of a person: 19\n",
      "I can Vote\n"
     ]
    }
   ],
   "source": [
    "age = int(input('Enter an age of a person: '))\n",
    "if age >= 18:\n",
    "    print('I can Vote')\n",
    "elif age < 18:\n",
    "    print(\"I can't Vote\")\n",
    "else:\n",
    "    print('Please enter a valid age')"
   ]
  },
  {
   "cell_type": "markdown",
   "id": "8be4fe39",
   "metadata": {},
   "source": [
    "## Q23. Write a code that displays the sum of all the even numbers from the given list.\n",
    "\n",
    "## numbers = [12, 75, 150, 180, 145, 525, 50]"
   ]
  },
  {
   "cell_type": "code",
   "execution_count": 11,
   "id": "b4858f2e",
   "metadata": {},
   "outputs": [
    {
     "name": "stdout",
     "output_type": "stream",
     "text": [
      "12\n",
      "150\n",
      "180\n",
      "50\n"
     ]
    }
   ],
   "source": [
    "numbers = [12, 75, 150, 180, 145, 525, 50]\n",
    "\n",
    "for i in numbers:\n",
    "    if i%2==0:\n",
    "        print(i)"
   ]
  },
  {
   "cell_type": "markdown",
   "id": "1d5067d1",
   "metadata": {},
   "source": [
    "## Q24. Write a code to take 3 numbers as an input from the user and display the greatest no as output."
   ]
  },
  {
   "cell_type": "code",
   "execution_count": 14,
   "id": "2a720a30",
   "metadata": {},
   "outputs": [
    {
     "name": "stdout",
     "output_type": "stream",
     "text": [
      "Enter a number: 4\n",
      "Enter a number: 8\n",
      "Enter a number: 10\n",
      "10\n"
     ]
    }
   ],
   "source": [
    "a = int(input('Enter a number: '))\n",
    "b = int(input('Enter a number: '))\n",
    "c = int(input('Enter a number: '))\n",
    "\n",
    "if a>b>c:\n",
    "    print(a)\n",
    "elif b>a>c:\n",
    "    print(b)\n",
    "else:\n",
    "    print(c)"
   ]
  },
  {
   "cell_type": "markdown",
   "id": "a7cfa738",
   "metadata": {},
   "source": [
    "## Q25. Write a program to display only those numbers from a list that satisfy the following conditions\n",
    "\n",
    "The number must be divisible by five\n",
    "\n",
    "If the number is greater than 150, then skip it and move to the next number\n",
    "\n",
    "If the number is greater than 500, then stop the loop"
   ]
  },
  {
   "cell_type": "code",
   "execution_count": 16,
   "id": "97eb8998",
   "metadata": {},
   "outputs": [
    {
     "name": "stdout",
     "output_type": "stream",
     "text": [
      "75\n",
      "150\n",
      "145\n"
     ]
    }
   ],
   "source": [
    "numbers = [12, 75, 150, 180, 145, 525, 50]\n",
    "for i in numbers:\n",
    "    if i > 500:\n",
    "        break\n",
    "    elif i > 150:\n",
    "        pass\n",
    "    elif i %5==0:\n",
    "        print(i)"
   ]
  },
  {
   "cell_type": "code",
   "execution_count": null,
   "id": "4f5cad28",
   "metadata": {},
   "outputs": [],
   "source": []
  }
 ],
 "metadata": {
  "kernelspec": {
   "display_name": "Python 3",
   "language": "python",
   "name": "python3"
  },
  "language_info": {
   "codemirror_mode": {
    "name": "ipython",
    "version": 3
   },
   "file_extension": ".py",
   "mimetype": "text/x-python",
   "name": "python",
   "nbconvert_exporter": "python",
   "pygments_lexer": "ipython3",
   "version": "3.8.8"
  }
 },
 "nbformat": 4,
 "nbformat_minor": 5
}
