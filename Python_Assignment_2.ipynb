{
 "cells": [
  {
   "cell_type": "markdown",
   "id": "c30bccf6",
   "metadata": {},
   "source": [
    "## Q1. Why do we call Python as a general purpose and high-level programming language?"
   ]
  },
  {
   "cell_type": "markdown",
   "id": "bc86c18f",
   "metadata": {},
   "source": [
    "A general-purpose language is a computer language that is broadly applicable across application domains, and lacks specialized features for a particular domain.\n",
    "Python is a general-purpose language, meaning it can be used to create a variety of different programs and isn't specialized for any specific problems. This versatility, along with its beginner-friendliness."
   ]
  },
  {
   "cell_type": "markdown",
   "id": "fc4440e4",
   "metadata": {},
   "source": [
    "## Q2. Why is Python called a dynamically typed language?"
   ]
  },
  {
   "cell_type": "markdown",
   "id": "f1e4c06f",
   "metadata": {},
   "source": [
    "In Python, we dont have to specifically define the data type of a variable before assignment. The data type of a variable is defined during the run time and is assigned to the variable. So it is called dynamically typed language."
   ]
  },
  {
   "cell_type": "markdown",
   "id": "68a57821",
   "metadata": {},
   "source": [
    "## Q3. List some pros and cons of Python programming language?"
   ]
  },
  {
   "cell_type": "markdown",
   "id": "d330a44b",
   "metadata": {},
   "source": [
    "**Pros of a Python**\n",
    "\n",
    "Python is beginner friendly,Large community, Extensive library,Highly scalable, dynamic language, and can be embedded\n",
    "\n",
    "**Cons of a Python**\n",
    "\n",
    "Slower than compiled languages, High Memory Consumption,Speed and non native mobile environment\n"
   ]
  },
  {
   "cell_type": "markdown",
   "id": "2a275ce9",
   "metadata": {},
   "source": [
    "## Q4. In what all domains can we use Python?"
   ]
  },
  {
   "cell_type": "markdown",
   "id": "8a2b552e",
   "metadata": {},
   "source": [
    "**Python can be used in **\n",
    "\n",
    "Application Development\n",
    "\n",
    "Gaming\n",
    "\n",
    "Machine learning & AI\n",
    "\n",
    "Automation\n",
    "\n",
    "Web scrapping\n",
    "\n",
    "GUI Applications\n",
    "\n",
    "Web applications\n",
    "\n",
    "NLP\n",
    "\n",
    "Scientific Programming Etc.,\n"
   ]
  },
  {
   "cell_type": "markdown",
   "id": "a171f438",
   "metadata": {},
   "source": [
    "##  Q5. What are variable and how can we declare them?"
   ]
  },
  {
   "cell_type": "markdown",
   "id": "ed65fb24",
   "metadata": {},
   "source": [
    "Variable are named that are assigned to a value in python and can be used to acces the value by calling the variable"
   ]
  },
  {
   "cell_type": "markdown",
   "id": "e3baee46",
   "metadata": {},
   "source": [
    "## Q6. How can we take an input from the user in Python?"
   ]
  },
  {
   "cell_type": "markdown",
   "id": "33a4fd64",
   "metadata": {},
   "source": [
    "We use **input()** function to take an input from the user"
   ]
  },
  {
   "cell_type": "markdown",
   "id": "7442b372",
   "metadata": {},
   "source": [
    "## Q7. What is the default datatype of the value that has been taken as an input using input() function?"
   ]
  },
  {
   "cell_type": "markdown",
   "id": "0b7d47e6",
   "metadata": {},
   "source": [
    "The default type of input function is string data type"
   ]
  },
  {
   "cell_type": "markdown",
   "id": "a132291e",
   "metadata": {},
   "source": [
    "## Q8. What is type casting?"
   ]
  },
  {
   "cell_type": "markdown",
   "id": "5e76ab16",
   "metadata": {},
   "source": [
    "Changing the datatype of variable/value from one data type to other is called type casting"
   ]
  },
  {
   "cell_type": "markdown",
   "id": "cea89735",
   "metadata": {},
   "source": [
    "## Q9. Can we take more than one input from the user using single input() function? If yes, how? If no, why?"
   ]
  },
  {
   "cell_type": "markdown",
   "id": "aa11a02e",
   "metadata": {},
   "source": [
    "Yes,We can take multiple inputs with a single input function by using **split()** function"
   ]
  },
  {
   "cell_type": "markdown",
   "id": "c891f164",
   "metadata": {},
   "source": [
    "## Q10. What are keywords?"
   ]
  },
  {
   "cell_type": "markdown",
   "id": "b87822bb",
   "metadata": {},
   "source": [
    "Python keyword is specially reserved words with specific meanings and purposes. They are different from built-in functions and types."
   ]
  },
  {
   "cell_type": "markdown",
   "id": "c52f6d45",
   "metadata": {},
   "source": [
    "## Q11. Can we use keywords as a variable? Support your answer with reason."
   ]
  },
  {
   "cell_type": "markdown",
   "id": "fdbf0916",
   "metadata": {},
   "source": [
    "No, We cannot use keywords as variables , As the keywords are already assigned to a specific function in pythob,if we use the same keyword again for a different task, it'll give an error and cannot be executed"
   ]
  },
  {
   "cell_type": "markdown",
   "id": "84dc990e",
   "metadata": {},
   "source": [
    "## Q12. What is indentation? What's the use of indentaion in Python?"
   ]
  },
  {
   "cell_type": "markdown",
   "id": "80e328e6",
   "metadata": {},
   "source": [
    "Indentation refers to the spaces at the beginning of a code line. the indentation in Python is very important. Python uses indentation to indicate a block of code."
   ]
  },
  {
   "cell_type": "markdown",
   "id": "c42a139d",
   "metadata": {},
   "source": [
    "## Q13. How can we throw some output in Python?"
   ]
  },
  {
   "cell_type": "markdown",
   "id": "4f010779",
   "metadata": {},
   "source": [
    "We can display an output by using **print()** function in Python"
   ]
  },
  {
   "cell_type": "markdown",
   "id": "36e2f653",
   "metadata": {},
   "source": [
    "## Q14. What are operators in Python?"
   ]
  },
  {
   "cell_type": "markdown",
   "id": "0d8ad146",
   "metadata": {},
   "source": [
    "In Python, operators are special symbols that designate that some sort of computation should be performed. The values that an operator acts on are called operands.\n",
    "Example; +,-,*,/,<,>......."
   ]
  },
  {
   "cell_type": "markdown",
   "id": "3a9906dc",
   "metadata": {},
   "source": [
    "## Q15. What is difference between / and // operators?"
   ]
  },
  {
   "cell_type": "markdown",
   "id": "47db2621",
   "metadata": {},
   "source": [
    "In Python '/' is used for division and '//' is used for floor division"
   ]
  },
  {
   "cell_type": "markdown",
   "id": "94bce918",
   "metadata": {},
   "source": [
    "## Q16. Write a code that gives following as an output."
   ]
  },
  {
   "cell_type": "code",
   "execution_count": 3,
   "id": "617d3b7e",
   "metadata": {},
   "outputs": [
    {
     "data": {
      "text/plain": [
       "'iNeuroniNeuroniNeuroniNeuron'"
      ]
     },
     "execution_count": 3,
     "metadata": {},
     "output_type": "execute_result"
    }
   ],
   "source": [
    "'iNeuron'*4"
   ]
  },
  {
   "cell_type": "markdown",
   "id": "623d89f5",
   "metadata": {},
   "source": [
    "## Q17. Write a code to take a number as an input from the user and check if the number is odd or even."
   ]
  },
  {
   "cell_type": "code",
   "execution_count": 5,
   "id": "12c8a807",
   "metadata": {},
   "outputs": [
    {
     "name": "stdout",
     "output_type": "stream",
     "text": [
      "Enter a number : 10\n",
      "10  is an Even number\n"
     ]
    }
   ],
   "source": [
    "num = int(input('Enter a number : '))\n",
    "if num%2==0:\n",
    "    print(num, ' is an Even number')\n",
    "else:\n",
    "    print(num, ' is an Odd number')"
   ]
  },
  {
   "cell_type": "markdown",
   "id": "70daf8ed",
   "metadata": {},
   "source": [
    "## Q18. What are boolean operator?"
   ]
  },
  {
   "cell_type": "markdown",
   "id": "81e36bcc",
   "metadata": {},
   "source": [
    "Boolean is a type of value that can be either **True** or **False**,  logical operators **and**, or **and** **not** are referred to as boolean operators"
   ]
  },
  {
   "cell_type": "markdown",
   "id": "b64a0c36",
   "metadata": {},
   "source": [
    "## Q19. What will the output of the following?\n",
    "\n",
    "1 or 0\n",
    "\n",
    "0 and 0\n",
    "\n",
    "True and False and True\n",
    "\n",
    "1 or 0 or 0"
   ]
  },
  {
   "cell_type": "code",
   "execution_count": 6,
   "id": "605dbed2",
   "metadata": {},
   "outputs": [
    {
     "data": {
      "text/plain": [
       "1"
      ]
     },
     "execution_count": 6,
     "metadata": {},
     "output_type": "execute_result"
    }
   ],
   "source": [
    "1 or 0"
   ]
  },
  {
   "cell_type": "code",
   "execution_count": 7,
   "id": "a09c6cdc",
   "metadata": {},
   "outputs": [
    {
     "data": {
      "text/plain": [
       "0"
      ]
     },
     "execution_count": 7,
     "metadata": {},
     "output_type": "execute_result"
    }
   ],
   "source": [
    "0 and 0"
   ]
  },
  {
   "cell_type": "code",
   "execution_count": 8,
   "id": "56ee33d7",
   "metadata": {},
   "outputs": [
    {
     "data": {
      "text/plain": [
       "False"
      ]
     },
     "execution_count": 8,
     "metadata": {},
     "output_type": "execute_result"
    }
   ],
   "source": [
    "True and False and True"
   ]
  },
  {
   "cell_type": "code",
   "execution_count": 9,
   "id": "a1e467e5",
   "metadata": {},
   "outputs": [
    {
     "data": {
      "text/plain": [
       "1"
      ]
     },
     "execution_count": 9,
     "metadata": {},
     "output_type": "execute_result"
    }
   ],
   "source": [
    "1 or 0 or 0"
   ]
  },
  {
   "cell_type": "markdown",
   "id": "536b44d9",
   "metadata": {},
   "source": [
    "## Q20. What are conditional statements in Python?"
   ]
  },
  {
   "cell_type": "markdown",
   "id": "acf2036e",
   "metadata": {},
   "source": [
    "Conditional Statement in Python perform different computations or actions depending on whether a specific Boolean constraint evaluates to true or false. Conditional statements are handled by IF and ELSE statements in Python"
   ]
  },
  {
   "cell_type": "markdown",
   "id": "7c1db3ce",
   "metadata": {},
   "source": [
    "## Q21. What is use of 'if', 'elif' and 'else' keywords?"
   ]
  },
  {
   "cell_type": "markdown",
   "id": "f5acf581",
   "metadata": {},
   "source": [
    "If-elif-else statement is used in Python for decision-making i.e the program will evaluate test expression and will execute the remaining statements only if the given test expression turns out to be true. This allows validation for multiple expressions."
   ]
  },
  {
   "cell_type": "markdown",
   "id": "d22de418",
   "metadata": {},
   "source": [
    "## Q22. Write a code to take the age of person as an input and if age >= 18 display \"I can vote\". If age is < 18 display \"I can't vote\"."
   ]
  },
  {
   "cell_type": "code",
   "execution_count": 10,
   "id": "c974e6f6",
   "metadata": {},
   "outputs": [
    {
     "name": "stdout",
     "output_type": "stream",
     "text": [
      "Enter an age of a person: 19\n",
      "I can Vote\n"
     ]
    }
   ],
   "source": [
    "age = int(input('Enter an age of a person: '))\n",
    "if age >= 18:\n",
    "    print('I can Vote')\n",
    "elif age < 18:\n",
    "    print(\"I can't Vote\")\n",
    "else:\n",
    "    print('Please enter a valid age')"
   ]
  },
  {
   "cell_type": "markdown",
   "id": "8be4fe39",
   "metadata": {},
   "source": [
    "## Q23. Write a code that displays the sum of all the even numbers from the given list.\n",
    "\n",
    "## numbers = [12, 75, 150, 180, 145, 525, 50]"
   ]
  },
  {
   "cell_type": "code",
   "execution_count": 11,
   "id": "b4858f2e",
   "metadata": {},
   "outputs": [
    {
     "name": "stdout",
     "output_type": "stream",
     "text": [
      "12\n",
      "150\n",
      "180\n",
      "50\n"
     ]
    }
   ],
   "source": [
    "numbers = [12, 75, 150, 180, 145, 525, 50]\n",
    "\n",
    "for i in numbers:\n",
    "    if i%2==0:\n",
    "        print(i)"
   ]
  },
  {
   "cell_type": "markdown",
   "id": "1d5067d1",
   "metadata": {},
   "source": [
    "## Q24. Write a code to take 3 numbers as an input from the user and display the greatest no as output."
   ]
  },
  {
   "cell_type": "code",
   "execution_count": 14,
   "id": "2a720a30",
   "metadata": {},
   "outputs": [
    {
     "name": "stdout",
     "output_type": "stream",
     "text": [
      "Enter a number: 4\n",
      "Enter a number: 8\n",
      "Enter a number: 10\n",
      "10\n"
     ]
    }
   ],
   "source": [
    "a = int(input('Enter a number: '))\n",
    "b = int(input('Enter a number: '))\n",
    "c = int(input('Enter a number: '))\n",
    "\n",
    "if a>b>c:\n",
    "    print(a)\n",
    "elif b>a>c:\n",
    "    print(b)\n",
    "else:\n",
    "    print(c)"
   ]
  },
  {
   "cell_type": "markdown",
   "id": "a7cfa738",
   "metadata": {},
   "source": [
    "## Q25. Write a program to display only those numbers from a list that satisfy the following conditions\n",
    "\n",
    "The number must be divisible by five\n",
    "\n",
    "If the number is greater than 150, then skip it and move to the next number\n",
    "\n",
    "If the number is greater than 500, then stop the loop"
   ]
  },
  {
   "cell_type": "code",
   "execution_count": 16,
   "id": "97eb8998",
   "metadata": {},
   "outputs": [
    {
     "name": "stdout",
     "output_type": "stream",
     "text": [
      "75\n",
      "150\n",
      "145\n"
     ]
    }
   ],
   "source": [
    "numbers = [12, 75, 150, 180, 145, 525, 50]\n",
    "for i in numbers:\n",
    "    if i > 500:\n",
    "        break\n",
    "    elif i > 150:\n",
    "        pass\n",
    "    elif i %5==0:\n",
    "        print(i)"
   ]
  },
  {
   "cell_type": "markdown",
   "id": "5a0497a1",
   "metadata": {},
   "source": []
  },
  {
   "cell_type": "markdown",
   "id": "a12dc36a",
   "metadata": {},
   "source": [
    "## Q26. What is a string? How can we declare string in Python?"
   ]
  },
  {
   "cell_type": "markdown",
   "id": "08073329",
   "metadata": {},
   "source": [
    "String is a data type in python which consists of mixed charecters of alphabets,numbers or special charecters enclosed in quotes. We define string using single, double or triple quotes in python"
   ]
  },
  {
   "cell_type": "markdown",
   "id": "c88dedb6",
   "metadata": {},
   "source": [
    "## Q27. How can we access the string using its index?"
   ]
  },
  {
   "cell_type": "markdown",
   "id": "5ed8f950",
   "metadata": {},
   "source": [
    "Strings can be accesed using its index values by passing the position in square brackets. Ex: string[1]"
   ]
  },
  {
   "cell_type": "markdown",
   "id": "681096bc",
   "metadata": {},
   "source": [
    "## Q28. Write a code to get the desired output of the following\n",
    "\n",
    "string = \"Big Data iNeuron\"\n",
    "desired_output = \"iNeuron\" "
   ]
  },
  {
   "cell_type": "code",
   "execution_count": 57,
   "id": "10ad9fa7",
   "metadata": {},
   "outputs": [
    {
     "data": {
      "text/plain": [
       "'iNeuron'"
      ]
     },
     "execution_count": 57,
     "metadata": {},
     "output_type": "execute_result"
    }
   ],
   "source": [
    "string = \"Big Data iNeuron\" \n",
    "string[9:]"
   ]
  },
  {
   "cell_type": "markdown",
   "id": "febf3188",
   "metadata": {},
   "source": [
    "## Q29. Write a code to get the desired output of the following\n",
    "\n",
    "string = \"Big Data iNeuron\"\n",
    "desired_output = \"norueNi\" "
   ]
  },
  {
   "cell_type": "code",
   "execution_count": 61,
   "id": "3e3682da",
   "metadata": {},
   "outputs": [
    {
     "data": {
      "text/plain": [
       "'norueNi'"
      ]
     },
     "execution_count": 61,
     "metadata": {},
     "output_type": "execute_result"
    }
   ],
   "source": [
    "string = \"Big Data iNeuron\"\n",
    "string[9:][::-1]"
   ]
  },
  {
   "cell_type": "markdown",
   "id": "5035a8db",
   "metadata": {},
   "source": [
    "## Q30. Resverse the string given in the above question."
   ]
  },
  {
   "cell_type": "code",
   "execution_count": 62,
   "id": "a39dad16",
   "metadata": {},
   "outputs": [
    {
     "data": {
      "text/plain": [
       "'norueNi ataD giB'"
      ]
     },
     "execution_count": 62,
     "metadata": {},
     "output_type": "execute_result"
    }
   ],
   "source": [
    "string[::-1]"
   ]
  },
  {
   "cell_type": "markdown",
   "id": "7842fdf0",
   "metadata": {},
   "source": [
    "## Q31. How can you delete entire string at once?"
   ]
  },
  {
   "cell_type": "code",
   "execution_count": 64,
   "id": "db7e11be",
   "metadata": {},
   "outputs": [
    {
     "ename": "NameError",
     "evalue": "name 'string' is not defined",
     "output_type": "error",
     "traceback": [
      "\u001b[0;31m---------------------------------------------------------------------------\u001b[0m",
      "\u001b[0;31mNameError\u001b[0m                                 Traceback (most recent call last)",
      "\u001b[0;32m<ipython-input-64-d3d71f0527b1>\u001b[0m in \u001b[0;36m<module>\u001b[0;34m\u001b[0m\n\u001b[0;32m----> 1\u001b[0;31m \u001b[0;32mdel\u001b[0m \u001b[0mstring\u001b[0m\u001b[0;34m\u001b[0m\u001b[0;34m\u001b[0m\u001b[0m\n\u001b[0m\u001b[1;32m      2\u001b[0m \u001b[0mstring\u001b[0m\u001b[0;34m\u001b[0m\u001b[0;34m\u001b[0m\u001b[0m\n",
      "\u001b[0;31mNameError\u001b[0m: name 'string' is not defined"
     ]
    }
   ],
   "source": [
    "del string\n",
    "string"
   ]
  },
  {
   "cell_type": "markdown",
   "id": "6ca58321",
   "metadata": {},
   "source": [
    "## Q32. What is escape sequence? "
   ]
  },
  {
   "cell_type": "markdown",
   "id": "cf7b76b0",
   "metadata": {},
   "source": [
    "Character combinations consisting of a backslash (\\) followed by a letter or by a combination of digits are called \"escape sequences.\" To represent a newline character, single quotation mark, or certain other characters in a character constant, you must use escape sequences."
   ]
  },
  {
   "cell_type": "code",
   "execution_count": 83,
   "id": "12afbf51",
   "metadata": {},
   "outputs": [
    {
     "data": {
      "text/plain": [
       "\"escape 'sequence'example\""
      ]
     },
     "execution_count": 83,
     "metadata": {},
     "output_type": "execute_result"
    }
   ],
   "source": [
    "string = 'escape \\'sequence\\'example'\n",
    "string"
   ]
  },
  {
   "cell_type": "markdown",
   "id": "58ed6b10",
   "metadata": {},
   "source": [
    "## Q33. How can you print the below string?\n",
    "\n",
    "'iNeuron's Big Data Course' "
   ]
  },
  {
   "cell_type": "code",
   "execution_count": 65,
   "id": "7f13e7dc",
   "metadata": {},
   "outputs": [
    {
     "name": "stdout",
     "output_type": "stream",
     "text": [
      "iNeuron's Big Data Course\n"
     ]
    }
   ],
   "source": [
    "print(\"iNeuron's Big Data Course\" )"
   ]
  },
  {
   "cell_type": "markdown",
   "id": "635f54b1",
   "metadata": {},
   "source": [
    "## Q34. What is a list in Python?"
   ]
  },
  {
   "cell_type": "markdown",
   "id": "e4f593ef",
   "metadata": {},
   "source": [
    "A list is a typeof data collection in python which can contain mixed data types, lists are ordered,mutable and can allow duplicate values. list is a collection of values enclosed in square brackets"
   ]
  },
  {
   "cell_type": "markdown",
   "id": "d5dc5368",
   "metadata": {},
   "source": [
    "## Q35. How can you create a list in Python? "
   ]
  },
  {
   "cell_type": "markdown",
   "id": "c9f7f4b1",
   "metadata": {},
   "source": [
    "Lists can be created by using square brackets **[ ]** or **list()** function"
   ]
  },
  {
   "cell_type": "markdown",
   "id": "b0839ad0",
   "metadata": {},
   "source": [
    "## Q36. How can we access the elements in a list?"
   ]
  },
  {
   "cell_type": "markdown",
   "id": "76acfc59",
   "metadata": {},
   "source": [
    "elements of list can be accessed by index position. Ex: **list_name[index_position]**, **lst[1]** will give the first element from the list."
   ]
  },
  {
   "cell_type": "markdown",
   "id": "b0ccd298",
   "metadata": {},
   "source": [
    "## Q37. Write a code to access the word \"iNeuron\" from the given list.\n",
    "\n",
    "lst = [1,2,3,\"Hi\",[45,54, \"iNeuron\"], \"Big Data\"] "
   ]
  },
  {
   "cell_type": "code",
   "execution_count": 66,
   "id": "4081313c",
   "metadata": {},
   "outputs": [
    {
     "data": {
      "text/plain": [
       "'iNeuron'"
      ]
     },
     "execution_count": 66,
     "metadata": {},
     "output_type": "execute_result"
    }
   ],
   "source": [
    "lst = [1,2,3,\"Hi\",[45,54, \"iNeuron\"], \"Big Data\"]\n",
    "\n",
    "lst[4][2]"
   ]
  },
  {
   "cell_type": "markdown",
   "id": "ee054c6a",
   "metadata": {},
   "source": [
    "## Q38. Take a list as an input from the user and find the length of the list. "
   ]
  },
  {
   "cell_type": "code",
   "execution_count": 69,
   "id": "1a05db6a",
   "metadata": {},
   "outputs": [
    {
     "name": "stdout",
     "output_type": "stream",
     "text": [
      "Enter values seperated by space : 1 2 3 4 5 6 7 8 9\n"
     ]
    }
   ],
   "source": [
    "lst = input('Enter values seperated by space : ').split()"
   ]
  },
  {
   "cell_type": "code",
   "execution_count": 70,
   "id": "1c668fef",
   "metadata": {},
   "outputs": [
    {
     "data": {
      "text/plain": [
       "9"
      ]
     },
     "execution_count": 70,
     "metadata": {},
     "output_type": "execute_result"
    }
   ],
   "source": [
    "len(lst)"
   ]
  },
  {
   "cell_type": "markdown",
   "id": "0107565b",
   "metadata": {},
   "source": [
    "## 39. Add the word \"Big\" in the 3rd index of the given list.\n",
    "\n",
    "lst = [\"Welcome\", \"to\", \"Data\", \"course\"] "
   ]
  },
  {
   "cell_type": "code",
   "execution_count": 71,
   "id": "4fe78c90",
   "metadata": {},
   "outputs": [
    {
     "data": {
      "text/plain": [
       "['Welcome', 'to', 'Data', 'Big', 'course']"
      ]
     },
     "execution_count": 71,
     "metadata": {},
     "output_type": "execute_result"
    }
   ],
   "source": [
    "lst = [\"Welcome\", \"to\", \"Data\", \"course\"]\n",
    "lst.insert(3,'Big')\n",
    "lst"
   ]
  },
  {
   "cell_type": "markdown",
   "id": "d69e774f",
   "metadata": {},
   "source": [
    "## Q40. What is a tuple? How is it different from list? "
   ]
  },
  {
   "cell_type": "markdown",
   "id": "ad595a8c",
   "metadata": {},
   "source": [
    "Tuples is a collection type in python, it is a collection of elements enclosed in parenthesis. These are immutable and this makes it different from the list"
   ]
  },
  {
   "cell_type": "markdown",
   "id": "82b68d2b",
   "metadata": {},
   "source": [
    "## Q41. How can you create a tuple in Python?"
   ]
  },
  {
   "cell_type": "markdown",
   "id": "73b825f7",
   "metadata": {},
   "source": [
    "Tuples can be created either by using brackets **( )** or **tuple()** function"
   ]
  },
  {
   "cell_type": "markdown",
   "id": "94e2e79b",
   "metadata": {},
   "source": [
    "## Q42. Create a tuple and try to add your name in the tuple. Are you able to do it? Support your answer with reason."
   ]
  },
  {
   "cell_type": "code",
   "execution_count": 73,
   "id": "8b5efa33",
   "metadata": {},
   "outputs": [
    {
     "ename": "AttributeError",
     "evalue": "'tuple' object has no attribute 'insert'",
     "output_type": "error",
     "traceback": [
      "\u001b[0;31m---------------------------------------------------------------------------\u001b[0m",
      "\u001b[0;31mAttributeError\u001b[0m                            Traceback (most recent call last)",
      "\u001b[0;32m<ipython-input-73-0d908040a0c0>\u001b[0m in \u001b[0;36m<module>\u001b[0;34m\u001b[0m\n\u001b[1;32m      1\u001b[0m \u001b[0mtup\u001b[0m \u001b[0;34m=\u001b[0m \u001b[0;34m(\u001b[0m\u001b[0;34m'Ram'\u001b[0m\u001b[0;34m,\u001b[0m\u001b[0;34m'Ramesh'\u001b[0m\u001b[0;34m,\u001b[0m\u001b[0;34m'Raghu'\u001b[0m\u001b[0;34m,\u001b[0m\u001b[0;34m'Raju'\u001b[0m\u001b[0;34m)\u001b[0m\u001b[0;34m\u001b[0m\u001b[0;34m\u001b[0m\u001b[0m\n\u001b[0;32m----> 2\u001b[0;31m \u001b[0mtup\u001b[0m\u001b[0;34m.\u001b[0m\u001b[0minsert\u001b[0m\u001b[0;34m(\u001b[0m\u001b[0;36m3\u001b[0m\u001b[0;34m,\u001b[0m\u001b[0;34m'Raj'\u001b[0m\u001b[0;34m)\u001b[0m\u001b[0;34m\u001b[0m\u001b[0;34m\u001b[0m\u001b[0m\n\u001b[0m\u001b[1;32m      3\u001b[0m \u001b[0;34m\u001b[0m\u001b[0m\n\u001b[1;32m      4\u001b[0m \u001b[0;31m# We cannot add elements to tuple as these are mutable\u001b[0m\u001b[0;34m\u001b[0m\u001b[0;34m\u001b[0m\u001b[0;34m\u001b[0m\u001b[0m\n",
      "\u001b[0;31mAttributeError\u001b[0m: 'tuple' object has no attribute 'insert'"
     ]
    }
   ],
   "source": [
    "tup = ('Ram','Ramesh','Raghu','Raju')\n",
    "tup.insert(3,'Raj')\n",
    "\n",
    "# We cannot add elements to tuple as these are mutable"
   ]
  },
  {
   "cell_type": "markdown",
   "id": "cb892361",
   "metadata": {},
   "source": [
    "## Q43. Can two tuple be appended. If yes, write a code for it. If not, why?"
   ]
  },
  {
   "cell_type": "code",
   "execution_count": 81,
   "id": "81db4d3f",
   "metadata": {},
   "outputs": [
    {
     "data": {
      "text/plain": [
       "('Ram', 'Ramesh', 'Raghu', 'Raju')"
      ]
     },
     "execution_count": 81,
     "metadata": {},
     "output_type": "execute_result"
    }
   ],
   "source": [
    "tup1 = ('Ram','Ramesh')\n",
    "tup2 = ('Raghu','Raju')\n",
    "tup1+tup2"
   ]
  },
  {
   "cell_type": "markdown",
   "id": "a17f61a5",
   "metadata": {},
   "source": [
    "## Q44. Take a tuple as an input and print the count of elements in it."
   ]
  },
  {
   "cell_type": "code",
   "execution_count": 74,
   "id": "0c2a7495",
   "metadata": {},
   "outputs": [
    {
     "data": {
      "text/plain": [
       "4"
      ]
     },
     "execution_count": 74,
     "metadata": {},
     "output_type": "execute_result"
    }
   ],
   "source": [
    "tup = ('Ram','Ramesh','Raghu','Raju')\n",
    "len(tup)"
   ]
  },
  {
   "cell_type": "markdown",
   "id": "4e40cfe4",
   "metadata": {},
   "source": [
    "## Q45. What are sets in Python?"
   ]
  },
  {
   "cell_type": "markdown",
   "id": "7b17a406",
   "metadata": {},
   "source": [
    "Sets are another type of data collection in python, sets are unordered, and will not allow duplicates"
   ]
  },
  {
   "cell_type": "markdown",
   "id": "985e3bba",
   "metadata": {},
   "source": [
    "## Q46. How can you create a set?"
   ]
  },
  {
   "cell_type": "markdown",
   "id": "72c829d5",
   "metadata": {},
   "source": [
    "Sets can be created using curly braces **{ }** or **set()** function"
   ]
  },
  {
   "cell_type": "markdown",
   "id": "09641d2a",
   "metadata": {},
   "source": [
    "## Q47. Create a set and add \"iNeuron\" in your set."
   ]
  },
  {
   "cell_type": "code",
   "execution_count": 75,
   "id": "2b84fd08",
   "metadata": {},
   "outputs": [
    {
     "data": {
      "text/plain": [
       "{'Raghu', 'Raju', 'Ram', 'Ramesh', 'iNeuron'}"
      ]
     },
     "execution_count": 75,
     "metadata": {},
     "output_type": "execute_result"
    }
   ],
   "source": [
    "set1 = {'Ram','Ramesh','Raghu','Raju'}\n",
    "set1.add('iNeuron')\n",
    "set1"
   ]
  },
  {
   "cell_type": "markdown",
   "id": "ac8f584e",
   "metadata": {},
   "source": [
    "## Q48. Try to add multiple values using add() function.\n",
    "\n"
   ]
  },
  {
   "cell_type": "code",
   "execution_count": 78,
   "id": "529e32f6",
   "metadata": {},
   "outputs": [
    {
     "ename": "TypeError",
     "evalue": "add() takes exactly one argument (2 given)",
     "output_type": "error",
     "traceback": [
      "\u001b[0;31m---------------------------------------------------------------------------\u001b[0m",
      "\u001b[0;31mTypeError\u001b[0m                                 Traceback (most recent call last)",
      "\u001b[0;32m<ipython-input-78-6895654ad266>\u001b[0m in \u001b[0;36m<module>\u001b[0;34m\u001b[0m\n\u001b[1;32m      1\u001b[0m \u001b[0mset1\u001b[0m \u001b[0;34m=\u001b[0m \u001b[0;34m{\u001b[0m\u001b[0;34m'Ram'\u001b[0m\u001b[0;34m,\u001b[0m\u001b[0;34m'Ramesh'\u001b[0m\u001b[0;34m,\u001b[0m\u001b[0;34m'Raghu'\u001b[0m\u001b[0;34m,\u001b[0m\u001b[0;34m'Raju'\u001b[0m\u001b[0;34m}\u001b[0m\u001b[0;34m\u001b[0m\u001b[0;34m\u001b[0m\u001b[0m\n\u001b[0;32m----> 2\u001b[0;31m \u001b[0mset1\u001b[0m\u001b[0;34m.\u001b[0m\u001b[0madd\u001b[0m\u001b[0;34m(\u001b[0m\u001b[0;34m'iNeuron'\u001b[0m\u001b[0;34m,\u001b[0m\u001b[0;34m'big data'\u001b[0m\u001b[0;34m)\u001b[0m\u001b[0;34m\u001b[0m\u001b[0;34m\u001b[0m\u001b[0m\n\u001b[0m\u001b[1;32m      3\u001b[0m \u001b[0mset1\u001b[0m\u001b[0;34m\u001b[0m\u001b[0;34m\u001b[0m\u001b[0m\n\u001b[1;32m      4\u001b[0m \u001b[0;31m# multiple items cant be added into a set using add function\u001b[0m\u001b[0;34m\u001b[0m\u001b[0;34m\u001b[0m\u001b[0;34m\u001b[0m\u001b[0m\n",
      "\u001b[0;31mTypeError\u001b[0m: add() takes exactly one argument (2 given)"
     ]
    }
   ],
   "source": [
    "set1 = {'Ram','Ramesh','Raghu','Raju'}\n",
    "set1.add('iNeuron','big data')\n",
    "set1\n",
    "# multiple items cant be added into a set using add function"
   ]
  },
  {
   "cell_type": "code",
   "execution_count": 80,
   "id": "dc17bebb",
   "metadata": {},
   "outputs": [
    {
     "data": {
      "text/plain": [
       "{'Raghu', 'Raju', 'Ram', 'Ramesh', 'big data', 'iNeuron'}"
      ]
     },
     "execution_count": 80,
     "metadata": {},
     "output_type": "execute_result"
    }
   ],
   "source": [
    "set1 = {'Ram','Ramesh','Raghu','Raju'}\n",
    "set1.update(['iNeuron','big data'])\n",
    "set1"
   ]
  },
  {
   "cell_type": "markdown",
   "id": "e7416c92",
   "metadata": {},
   "source": [
    "## Q49. How is update() different from add()?"
   ]
  },
  {
   "cell_type": "markdown",
   "id": "69aa48d4",
   "metadata": {},
   "source": [
    "We use **add()** method to add single value to a set. We use **update()** method to add multiple values to a set."
   ]
  },
  {
   "cell_type": "markdown",
   "id": "20626f2e",
   "metadata": {},
   "source": [
    "## Q50. What is clear() in sets?"
   ]
  },
  {
   "cell_type": "markdown",
   "id": "82f580d7",
   "metadata": {},
   "source": [
    "**clear()** is a function used to remove all elements of a set"
   ]
  },
  {
   "cell_type": "markdown",
   "id": "d9130054",
   "metadata": {},
   "source": [
    "## Q51. What is frozen set?"
   ]
  },
  {
   "cell_type": "markdown",
   "id": "a37ed02e",
   "metadata": {},
   "source": [
    "frozenset() is a Method that creates an immutable Set object from a list or a sequence. It is a built-in Python function."
   ]
  },
  {
   "cell_type": "markdown",
   "id": "66232f70",
   "metadata": {},
   "source": [
    "## Q52. How is frozen set different from set?"
   ]
  },
  {
   "cell_type": "markdown",
   "id": "cd230549",
   "metadata": {},
   "source": [
    "frozensets are immutable and it is hashable. It is also called an immutable set. Since the elements are fixed, unlike sets you can't add or remove elements from the set. "
   ]
  },
  {
   "cell_type": "markdown",
   "id": "2f3d5f7b",
   "metadata": {},
   "source": [
    "## Q53. What is union() in sets? Explain via code."
   ]
  },
  {
   "cell_type": "markdown",
   "id": "cdb072e1",
   "metadata": {},
   "source": [
    "The union() method returns a set that contains all items from the original set, and all items from the specified set(s)."
   ]
  },
  {
   "cell_type": "code",
   "execution_count": 84,
   "id": "eb2976f5",
   "metadata": {},
   "outputs": [
    {
     "data": {
      "text/plain": [
       "{1, 2, 3, 4, 5, 6, 7, 8, 9}"
      ]
     },
     "execution_count": 84,
     "metadata": {},
     "output_type": "execute_result"
    }
   ],
   "source": [
    "set1 = {1,2,3,4}\n",
    "set2 = {5,6,7,8,9}\n",
    "set1.union(set2)"
   ]
  },
  {
   "cell_type": "markdown",
   "id": "e96a6bce",
   "metadata": {},
   "source": [
    "## Q54. What is intersection() in sets? Explain via code."
   ]
  },
  {
   "cell_type": "code",
   "execution_count": 86,
   "id": "77fb0247",
   "metadata": {},
   "outputs": [
    {
     "data": {
      "text/plain": [
       "{5}"
      ]
     },
     "execution_count": 86,
     "metadata": {},
     "output_type": "execute_result"
    }
   ],
   "source": [
    "# Intersection gives only the common elements of both the sets\n",
    "set1 = {1,2,3,4,5}\n",
    "set2 = {5,6,7,8,9}\n",
    "set1.intersection(set2)"
   ]
  },
  {
   "cell_type": "markdown",
   "id": "29bcb3ad",
   "metadata": {},
   "source": [
    "## Q55. What is dictionary ibn Python?"
   ]
  },
  {
   "cell_type": "markdown",
   "id": "ccbf96e8",
   "metadata": {},
   "source": [
    "Dictionary is a data collection type in python. it stores in a key value pair enclosed in a curly brackets. Ex: dict1 = {'Key':'Value'}"
   ]
  },
  {
   "cell_type": "markdown",
   "id": "a1b689b6",
   "metadata": {},
   "source": [
    "## Q56. How is dictionary different from all other data structures.\n",
    "\n"
   ]
  },
  {
   "cell_type": "markdown",
   "id": "2501edbb",
   "metadata": {},
   "source": [
    "Dictionaries are used to store data values in key:value pairs. A dictionary is a collection which is ordered*, changeable and do not allow duplicates.\n",
    "While other Data Structures use only one value as the element, the dictionary is a slightly more compound data structure. It makes use of two elements i.e. a pair of elements, namely, a key and a value"
   ]
  },
  {
   "cell_type": "markdown",
   "id": "e8c955af",
   "metadata": {},
   "source": [
    "## Q57. How can we delare a dictionary in Python?"
   ]
  },
  {
   "cell_type": "markdown",
   "id": "590abdb4",
   "metadata": {},
   "source": [
    "Dictionary can be delared by using curly brackets **{ }** and passing key value pairs or by using **dict()** function"
   ]
  },
  {
   "cell_type": "markdown",
   "id": "203846a3",
   "metadata": {},
   "source": [
    "## Q58. What will the output of the following?\n",
    "\n",
    "var = {}\n",
    "print(type(var))"
   ]
  },
  {
   "cell_type": "code",
   "execution_count": 88,
   "id": "4ea72a4b",
   "metadata": {},
   "outputs": [
    {
     "name": "stdout",
     "output_type": "stream",
     "text": [
      "<class 'dict'>\n"
     ]
    }
   ],
   "source": [
    "var = {}\n",
    "print(type(var))"
   ]
  },
  {
   "cell_type": "markdown",
   "id": "516a7774",
   "metadata": {},
   "source": [
    "## Q59. How can we add an element in a dictionary?"
   ]
  },
  {
   "cell_type": "markdown",
   "id": "bf76c7aa",
   "metadata": {},
   "source": [
    "New element can be added by inserting a new index key into the dictionary, then assigning it a particular value\n",
    "Ex : **dictionary_name[key]=value**"
   ]
  },
  {
   "cell_type": "markdown",
   "id": "65613f5d",
   "metadata": {},
   "source": [
    "## Q60. Create a dictionary and access all the values in that dictionary."
   ]
  },
  {
   "cell_type": "code",
   "execution_count": 90,
   "id": "62f8d567",
   "metadata": {},
   "outputs": [
    {
     "name": "stdout",
     "output_type": "stream",
     "text": [
      "dict_values([1, 2, 3, 4])\n"
     ]
    }
   ],
   "source": [
    "dict1 = {'one':1,'two':2,'three':3,'four':4}\n",
    "print(dict1.values())"
   ]
  },
  {
   "cell_type": "markdown",
   "id": "230e975f",
   "metadata": {},
   "source": [
    "## Q61. Create a nested dictionary and access all the element in the inner dictionary."
   ]
  },
  {
   "cell_type": "code",
   "execution_count": 96,
   "id": "0857cecc",
   "metadata": {},
   "outputs": [
    {
     "data": {
      "text/plain": [
       "{1, 2, 3, 4, 5}"
      ]
     },
     "execution_count": 96,
     "metadata": {},
     "output_type": "execute_result"
    }
   ],
   "source": [
    "dict1 = {'numbers':{1,2,3,4,5}}\n",
    "dict1['numbers']"
   ]
  },
  {
   "cell_type": "markdown",
   "id": "999d409d",
   "metadata": {},
   "source": [
    "## Q62. What is the use of get() function?"
   ]
  },
  {
   "cell_type": "code",
   "execution_count": 97,
   "id": "a57386dd",
   "metadata": {},
   "outputs": [
    {
     "data": {
      "text/plain": [
       "1"
      ]
     },
     "execution_count": 97,
     "metadata": {},
     "output_type": "execute_result"
    }
   ],
   "source": [
    "# get() method is used in Python to retrieve a value from a dictionary. which give the index position of the key \n",
    "dict1 = {'one':1,'two':2,'three':3,'four':4}\n",
    "dict1.get('one')"
   ]
  },
  {
   "cell_type": "markdown",
   "id": "25d41643",
   "metadata": {},
   "source": [
    "## Q63. What is the use of items() function?\n",
    "\n"
   ]
  },
  {
   "cell_type": "markdown",
   "id": "d6a71446",
   "metadata": {},
   "source": [
    "**items()** function is used to get the key value pairs from the dictionary. it give the values in the form of tuples"
   ]
  },
  {
   "cell_type": "code",
   "execution_count": 98,
   "id": "b2a97a9e",
   "metadata": {},
   "outputs": [
    {
     "data": {
      "text/plain": [
       "dict_items([('one', 1), ('two', 2), ('three', 3), ('four', 4)])"
      ]
     },
     "execution_count": 98,
     "metadata": {},
     "output_type": "execute_result"
    }
   ],
   "source": [
    "dict1.items()"
   ]
  },
  {
   "cell_type": "markdown",
   "id": "e7a4a2da",
   "metadata": {},
   "source": [
    "## Q64. What is the use of pop() function?"
   ]
  },
  {
   "cell_type": "markdown",
   "id": "71ae9267",
   "metadata": {},
   "source": [
    "**pop()** function is used to remove elements from the dictionary"
   ]
  },
  {
   "cell_type": "markdown",
   "id": "5d4ae9a5",
   "metadata": {},
   "source": [
    "## Q65. What is the use of popitems() function?"
   ]
  },
  {
   "cell_type": "markdown",
   "id": "6dc1f6a6",
   "metadata": {},
   "source": [
    "dict1.popitem() is used to remove last inserted item and return the items as an outpt"
   ]
  },
  {
   "cell_type": "markdown",
   "id": "dcf149c3",
   "metadata": {},
   "source": [
    "## Q66. What is the use of keys() function?\n",
    "\n"
   ]
  },
  {
   "cell_type": "markdown",
   "id": "06bb43ce",
   "metadata": {},
   "source": [
    "**keys()** function is used to access all the keys of a dictionary"
   ]
  },
  {
   "cell_type": "markdown",
   "id": "88325905",
   "metadata": {},
   "source": [
    "## Q67. What is the use of values() function?"
   ]
  },
  {
   "cell_type": "markdown",
   "id": "72297704",
   "metadata": {},
   "source": [
    "**values()** function is used to access all the values from a dictionary"
   ]
  },
  {
   "cell_type": "markdown",
   "id": "a2fa3c04",
   "metadata": {},
   "source": [
    "## Q68. What are loops in Python?"
   ]
  },
  {
   "cell_type": "markdown",
   "id": "7c96ebfe",
   "metadata": {},
   "source": [
    "loops in python are controlled statements that are used to repeatedly execute the statements"
   ]
  },
  {
   "cell_type": "markdown",
   "id": "28caccd9",
   "metadata": {},
   "source": [
    "## Q69. How many type of loop are there in Python?\n",
    "\n"
   ]
  },
  {
   "cell_type": "markdown",
   "id": "d0808e4e",
   "metadata": {},
   "source": [
    "There are two types of loops in python. for loop and while loop"
   ]
  },
  {
   "cell_type": "markdown",
   "id": "1c61a412",
   "metadata": {},
   "source": [
    "## Q70. What is the difference between for and while loops?"
   ]
  },
  {
   "cell_type": "markdown",
   "id": "c62dda6c",
   "metadata": {},
   "source": [
    "for loop is used when the number of iterations is known, whereas execution is done in the while loop until the statement in the program is proved wrong"
   ]
  },
  {
   "cell_type": "markdown",
   "id": "8d464f81",
   "metadata": {},
   "source": [
    "## Q71. What is the use of continue statement?"
   ]
  },
  {
   "cell_type": "markdown",
   "id": "5e636065",
   "metadata": {},
   "source": [
    "The continue keyword is used to end the current iteration in a for loop (or a while loop), and continues to the next iteration."
   ]
  },
  {
   "cell_type": "markdown",
   "id": "3175457f",
   "metadata": {},
   "source": [
    "## Q72. What is the use of break statement?"
   ]
  },
  {
   "cell_type": "markdown",
   "id": "94088198",
   "metadata": {},
   "source": [
    "Break statement is used to break the loop"
   ]
  },
  {
   "cell_type": "markdown",
   "id": "19d4025b",
   "metadata": {},
   "source": [
    "## Q73. What is the use of pass statement?"
   ]
  },
  {
   "cell_type": "markdown",
   "id": "67abe26f",
   "metadata": {},
   "source": [
    "pass statement is used as a placeholder for future code. When the pass statement is executed, nothing happens, but you avoid getting an error when empty code is not allowed."
   ]
  },
  {
   "cell_type": "markdown",
   "id": "0255c7f8",
   "metadata": {},
   "source": [
    "## Q74. What is the use of range() function?"
   ]
  },
  {
   "cell_type": "markdown",
   "id": "afca6636",
   "metadata": {},
   "source": [
    "The range() function returns a sequence of numbers, starting from 0 by default, and increments by 1 (by default), and stops before a specified number."
   ]
  },
  {
   "cell_type": "markdown",
   "id": "e7042ea2",
   "metadata": {},
   "source": [
    "## Q75. How can you loop over a dictionary?"
   ]
  },
  {
   "cell_type": "markdown",
   "id": "bd55d81f",
   "metadata": {},
   "source": [
    "You can loop through a dictionary by using a for loop. When looping through a dictionary, the return value are the keys of the dictionary, but there are methods to return the values as well."
   ]
  },
  {
   "cell_type": "markdown",
   "id": "a51cb675",
   "metadata": {},
   "source": [
    "## Q76. Write a Python program to find the factorial of a given number."
   ]
  },
  {
   "cell_type": "code",
   "execution_count": 105,
   "id": "374c732b",
   "metadata": {},
   "outputs": [],
   "source": [
    "def fact(num):\n",
    "    fact = 1\n",
    "    for i in range(num):\n",
    "        fact = fact*num\n",
    "        num=num-1\n",
    "    return fact"
   ]
  },
  {
   "cell_type": "code",
   "execution_count": 108,
   "id": "c6670447",
   "metadata": {},
   "outputs": [
    {
     "data": {
      "text/plain": [
       "120"
      ]
     },
     "execution_count": 108,
     "metadata": {},
     "output_type": "execute_result"
    }
   ],
   "source": [
    "fact(5)"
   ]
  },
  {
   "cell_type": "markdown",
   "id": "22b40c50",
   "metadata": {},
   "source": [
    "## Q77. Write a Python program to calculate the simple interest. Formula to calculate simple interest is SI = (PRT)/100"
   ]
  },
  {
   "cell_type": "code",
   "execution_count": 109,
   "id": "900f2826",
   "metadata": {},
   "outputs": [],
   "source": [
    "def simpleinterest(p,r,t):\n",
    "    SI = (p*r*t)/100\n",
    "    return SI"
   ]
  },
  {
   "cell_type": "code",
   "execution_count": 111,
   "id": "37e3df69",
   "metadata": {},
   "outputs": [
    {
     "data": {
      "text/plain": [
       "500.0"
      ]
     },
     "execution_count": 111,
     "metadata": {},
     "output_type": "execute_result"
    }
   ],
   "source": [
    "simpleinterest(10000,5,1)"
   ]
  },
  {
   "cell_type": "markdown",
   "id": "ffe5c56c",
   "metadata": {},
   "source": [
    "## Q78. Write a Python program to calculate the compound interest. Formula of compound interest is A = P(1+ R/100)^t."
   ]
  },
  {
   "cell_type": "code",
   "execution_count": 119,
   "id": "b3ea2c79",
   "metadata": {},
   "outputs": [],
   "source": [
    "def compound_interest(p,r,t):\n",
    "    amount = p*(1+r/100)**t\n",
    "    return amount-p"
   ]
  },
  {
   "cell_type": "code",
   "execution_count": 125,
   "id": "e9326490",
   "metadata": {},
   "outputs": [
    {
     "data": {
      "text/plain": [
       "2762.815625000003"
      ]
     },
     "execution_count": 125,
     "metadata": {},
     "output_type": "execute_result"
    }
   ],
   "source": [
    "compound_interest(10000,5,5)"
   ]
  },
  {
   "cell_type": "markdown",
   "id": "62ae1754",
   "metadata": {},
   "source": [
    "## Q79. Write a Python program to check if a number is prime or not.\n",
    "\n"
   ]
  },
  {
   "cell_type": "code",
   "execution_count": 126,
   "id": "d2dc2c8d",
   "metadata": {},
   "outputs": [],
   "source": [
    "def prime(num):\n",
    "    n = 0\n",
    "    for i in range(2,num):\n",
    "        if num%i ==0:\n",
    "            return False\n",
    "        else:\n",
    "            return True"
   ]
  },
  {
   "cell_type": "code",
   "execution_count": 128,
   "id": "d7004408",
   "metadata": {},
   "outputs": [
    {
     "data": {
      "text/plain": [
       "True"
      ]
     },
     "execution_count": 128,
     "metadata": {},
     "output_type": "execute_result"
    }
   ],
   "source": [
    "prime(11)"
   ]
  },
  {
   "cell_type": "markdown",
   "id": "a99cedfd",
   "metadata": {},
   "source": [
    "## Q80. Write a Python program to check Armstrong Number."
   ]
  },
  {
   "cell_type": "code",
   "execution_count": 136,
   "id": "070c780e",
   "metadata": {},
   "outputs": [],
   "source": [
    "def armstrong(num):\n",
    "    s = 0\n",
    "    for i in str(num):\n",
    "        s = s+ int(i)**3\n",
    "        \n",
    "    if s==num:\n",
    "        return True\n",
    "    else:\n",
    "        return False"
   ]
  },
  {
   "cell_type": "code",
   "execution_count": 137,
   "id": "8c6b0d14",
   "metadata": {},
   "outputs": [
    {
     "data": {
      "text/plain": [
       "True"
      ]
     },
     "execution_count": 137,
     "metadata": {},
     "output_type": "execute_result"
    }
   ],
   "source": [
    "armstrong(371)"
   ]
  },
  {
   "cell_type": "markdown",
   "id": "a7e85069",
   "metadata": {},
   "source": [
    "## Q81. Write a Python program to find the n-th Fibonacci Number"
   ]
  },
  {
   "cell_type": "code",
   "execution_count": 139,
   "id": "020120a6",
   "metadata": {},
   "outputs": [],
   "source": [
    "def fibonacci(n):\n",
    "    f = [0,1]\n",
    "    for i in range(2,n+1):\n",
    "        f.append(f[i-1] + f[i-2])\n",
    "    return f[n]"
   ]
  },
  {
   "cell_type": "code",
   "execution_count": 142,
   "id": "6c959e65",
   "metadata": {},
   "outputs": [
    {
     "data": {
      "text/plain": [
       "89"
      ]
     },
     "execution_count": 142,
     "metadata": {},
     "output_type": "execute_result"
    }
   ],
   "source": [
    "fibonacci(11)"
   ]
  },
  {
   "cell_type": "markdown",
   "id": "932c5a47",
   "metadata": {},
   "source": [
    "## Q82. Write a Python program to interchange the first and last element in a list.\n",
    "\n"
   ]
  },
  {
   "cell_type": "code",
   "execution_count": 152,
   "id": "07bd4df7",
   "metadata": {},
   "outputs": [],
   "source": [
    "lst = [1,2,3,4,5,6,7,8,9]\n",
    "def inter_change(lst):\n",
    "    first_element = lst[0]\n",
    "    last_element = lst[-1]\n",
    "    lst = lst[1:-1]\n",
    "    lst.insert(0,last_element)\n",
    "    lst.append(first_element)\n",
    "    return lst"
   ]
  },
  {
   "cell_type": "code",
   "execution_count": 153,
   "id": "8c1bce63",
   "metadata": {},
   "outputs": [
    {
     "data": {
      "text/plain": [
       "[9, 2, 3, 4, 5, 6, 7, 8, 1]"
      ]
     },
     "execution_count": 153,
     "metadata": {},
     "output_type": "execute_result"
    }
   ],
   "source": [
    "inter_change(lst)"
   ]
  },
  {
   "cell_type": "markdown",
   "id": "4f8fb26a",
   "metadata": {},
   "source": [
    "## Q83. Write a Python program to swap two elements in a list"
   ]
  },
  {
   "cell_type": "code",
   "execution_count": 155,
   "id": "8401f535",
   "metadata": {},
   "outputs": [],
   "source": [
    "def swapPositions(list, pos1, pos2):\n",
    "    list[pos1], list[pos2] = list[pos2], list[pos1]\n",
    "    return list"
   ]
  },
  {
   "cell_type": "code",
   "execution_count": 156,
   "id": "238c6a77",
   "metadata": {},
   "outputs": [
    {
     "data": {
      "text/plain": [
       "[1, 2, 4, 3, 5, 6, 7, 8, 9]"
      ]
     },
     "execution_count": 156,
     "metadata": {},
     "output_type": "execute_result"
    }
   ],
   "source": [
    "swapPositions(lst,2,3)"
   ]
  },
  {
   "cell_type": "markdown",
   "id": "6e356a0d",
   "metadata": {},
   "source": [
    "## Q84. Write a Python program to find N largest element from a list."
   ]
  },
  {
   "cell_type": "code",
   "execution_count": 162,
   "id": "e6d2a2ff",
   "metadata": {},
   "outputs": [],
   "source": [
    "def n_largest(lst,n):\n",
    "    return sorted(lst,reverse=True)[n-1]"
   ]
  },
  {
   "cell_type": "code",
   "execution_count": 164,
   "id": "6d1ba4a1",
   "metadata": {},
   "outputs": [
    {
     "data": {
      "text/plain": [
       "9"
      ]
     },
     "execution_count": 164,
     "metadata": {},
     "output_type": "execute_result"
    }
   ],
   "source": [
    "n_largest(lst,1)"
   ]
  },
  {
   "cell_type": "markdown",
   "id": "73f953e9",
   "metadata": {},
   "source": [
    "## Q85. Write a Python program to find cumulative sum of a list."
   ]
  },
  {
   "cell_type": "code",
   "execution_count": 166,
   "id": "5f4e7f83",
   "metadata": {},
   "outputs": [],
   "source": [
    "def cum_sum(lst):\n",
    "    sum1 = 0\n",
    "    for i in lst:\n",
    "        sum1 +=i\n",
    "    return sum1"
   ]
  },
  {
   "cell_type": "code",
   "execution_count": 167,
   "id": "7c0b7deb",
   "metadata": {},
   "outputs": [
    {
     "data": {
      "text/plain": [
       "45"
      ]
     },
     "execution_count": 167,
     "metadata": {},
     "output_type": "execute_result"
    }
   ],
   "source": [
    "cum_sum(lst)"
   ]
  },
  {
   "cell_type": "markdown",
   "id": "0231a7e6",
   "metadata": {},
   "source": [
    "## Q86. Write a Python program to check if a string is palindrome or not."
   ]
  },
  {
   "cell_type": "code",
   "execution_count": 168,
   "id": "d50b4447",
   "metadata": {},
   "outputs": [],
   "source": [
    "def palindrome(string):\n",
    "    if string == string[::-1]:\n",
    "        return True\n",
    "    else:\n",
    "        return False"
   ]
  },
  {
   "cell_type": "code",
   "execution_count": 171,
   "id": "4d22123f",
   "metadata": {},
   "outputs": [
    {
     "data": {
      "text/plain": [
       "True"
      ]
     },
     "execution_count": 171,
     "metadata": {},
     "output_type": "execute_result"
    }
   ],
   "source": [
    "palindrome('civic')"
   ]
  },
  {
   "cell_type": "markdown",
   "id": "7959f122",
   "metadata": {},
   "source": [
    "## Q87. Write a Python program to remove i'th element from a string."
   ]
  },
  {
   "cell_type": "code",
   "execution_count": 172,
   "id": "082ac50b",
   "metadata": {},
   "outputs": [],
   "source": [
    "def remove_i(string,n):\n",
    "    str1 = ''\n",
    "    for i in range(len(string)):\n",
    "        if i != n-1:\n",
    "            str1 += string[i]\n",
    "    return str1\n",
    "            "
   ]
  },
  {
   "cell_type": "code",
   "execution_count": 173,
   "id": "eae174e5",
   "metadata": {},
   "outputs": [
    {
     "data": {
      "text/plain": [
       "'test'"
      ]
     },
     "execution_count": 173,
     "metadata": {},
     "output_type": "execute_result"
    }
   ],
   "source": [
    "remove_i('taest',2)"
   ]
  },
  {
   "cell_type": "markdown",
   "id": "8f376426",
   "metadata": {},
   "source": [
    "## Q88. Write a Python program to check if a substring is present in a given string.\n",
    "\n"
   ]
  },
  {
   "cell_type": "code",
   "execution_count": 174,
   "id": "f1aee211",
   "metadata": {},
   "outputs": [],
   "source": [
    "def check(sub_string,string):\n",
    "    if string.find(sub_string) == -1:\n",
    "        return \"Not Present\"\n",
    "    else:\n",
    "        return \"Present\"\n",
    "    "
   ]
  },
  {
   "cell_type": "code",
   "execution_count": 175,
   "id": "57e52c34",
   "metadata": {},
   "outputs": [
    {
     "data": {
      "text/plain": [
       "'Present'"
      ]
     },
     "execution_count": 175,
     "metadata": {},
     "output_type": "execute_result"
    }
   ],
   "source": [
    "check('sub','substring')"
   ]
  },
  {
   "cell_type": "markdown",
   "id": "361f922e",
   "metadata": {},
   "source": [
    "## Q89. Write a Python program to find words which are greater than given length k."
   ]
  },
  {
   "cell_type": "code",
   "execution_count": 176,
   "id": "a8fad17f",
   "metadata": {},
   "outputs": [],
   "source": [
    "def check_words(lst,k):\n",
    "    for i in lst:\n",
    "        if len(i)> k:\n",
    "            print(i)"
   ]
  },
  {
   "cell_type": "code",
   "execution_count": 177,
   "id": "df5735c9",
   "metadata": {},
   "outputs": [
    {
     "name": "stdout",
     "output_type": "stream",
     "text": [
      "apple\n",
      "four\n",
      "five\n"
     ]
    }
   ],
   "source": [
    "check_words(['apple','bat','in','i','four','five'],3)"
   ]
  },
  {
   "cell_type": "markdown",
   "id": "458f352d",
   "metadata": {},
   "source": [
    "## Q90. Write a Python program to extract unquire dictionary values."
   ]
  },
  {
   "cell_type": "code",
   "execution_count": 182,
   "id": "d89c9f91",
   "metadata": {},
   "outputs": [
    {
     "data": {
      "text/plain": [
       "{1, 2, 3, 4}"
      ]
     },
     "execution_count": 182,
     "metadata": {},
     "output_type": "execute_result"
    }
   ],
   "source": [
    "dict2 = {'one': 1, 'two': 2, 'three': 3, 'four': 4,'five':4,'six':3}\n",
    "set(dict2.values())"
   ]
  },
  {
   "cell_type": "markdown",
   "id": "334993d4",
   "metadata": {},
   "source": [
    "## Q91. Write a Python program to merge two dictionary."
   ]
  },
  {
   "cell_type": "code",
   "execution_count": 186,
   "id": "c017b9c4",
   "metadata": {},
   "outputs": [],
   "source": [
    "d1 = {'one':1}\n",
    "d2 = {'two':2}"
   ]
  },
  {
   "cell_type": "code",
   "execution_count": 187,
   "id": "bbd43152",
   "metadata": {},
   "outputs": [],
   "source": [
    "d1.update(d2)"
   ]
  },
  {
   "cell_type": "code",
   "execution_count": 188,
   "id": "9144f7a9",
   "metadata": {},
   "outputs": [
    {
     "data": {
      "text/plain": [
       "{'one': 1, 'two': 2}"
      ]
     },
     "execution_count": 188,
     "metadata": {},
     "output_type": "execute_result"
    }
   ],
   "source": [
    "d1"
   ]
  },
  {
   "cell_type": "markdown",
   "id": "26e0d85a",
   "metadata": {},
   "source": [
    "## Q92. Write a Python program to convert a list of tuples into dictionary.\n",
    "\n",
    "Input : [('Sachin', 10), ('MSD', 7), ('Kohli', 18), ('Rohit', 45)]\n",
    "Output : {'Sachin': 10, 'MSD': 7, 'Kohli': 18, 'Rohit': 45}\n"
   ]
  },
  {
   "cell_type": "code",
   "execution_count": 189,
   "id": "5625ac27",
   "metadata": {},
   "outputs": [
    {
     "data": {
      "text/plain": [
       "{'Sachin': 10, 'MSD': 7, 'Kohli': 18, 'Rohit': 45}"
      ]
     },
     "execution_count": 189,
     "metadata": {},
     "output_type": "execute_result"
    }
   ],
   "source": [
    "tup = [('Sachin', 10), ('MSD', 7), ('Kohli', 18), ('Rohit', 45)]\n",
    "dict(tup)"
   ]
  },
  {
   "cell_type": "markdown",
   "id": "15a81072",
   "metadata": {},
   "source": [
    "## Q93. Write a Python program to create a list of tuples from given list having number and its cube in each tuple.\n",
    "\n",
    "Input: list = [9, 5, 6]\n",
    "Output: [(9, 729), (5, 125), (6, 216)]"
   ]
  },
  {
   "cell_type": "code",
   "execution_count": 192,
   "id": "b7b508a1",
   "metadata": {},
   "outputs": [
    {
     "name": "stdout",
     "output_type": "stream",
     "text": [
      "[(9, 729), (5, 125), (6, 216)]\n"
     ]
    }
   ],
   "source": [
    "l = []\n",
    "lst = [9,5,6]\n",
    "for i in lst:\n",
    "    l.append(tuple([i,i**3]))\n",
    "    \n",
    "print(l)"
   ]
  },
  {
   "cell_type": "markdown",
   "id": "19432e87",
   "metadata": {},
   "source": [
    "## Q94. Write a Python program to get all combinations of 2 tuples.\n",
    "\n",
    "Input : test_tuple1 = (7, 2), test_tuple2 = (7, 8)\n",
    "Output : [(7, 7), (7, 8), (2, 7), (2, 8), (7, 7), (7, 2), (8, 7), (8, 2)]"
   ]
  },
  {
   "cell_type": "code",
   "execution_count": 193,
   "id": "285e10a6",
   "metadata": {},
   "outputs": [],
   "source": [
    "test_tuple1 = (7, 2)\n",
    "test_tuple2 = (7, 8)\n",
    "res =  [(a, b) for a in test_tuple1 for b in test_tuple2]\n",
    "res = res +  [(a, b) for a in test_tuple2 for b in test_tuple1]"
   ]
  },
  {
   "cell_type": "code",
   "execution_count": 194,
   "id": "ed190c14",
   "metadata": {},
   "outputs": [
    {
     "data": {
      "text/plain": [
       "[(7, 7), (7, 8), (2, 7), (2, 8), (7, 7), (7, 2), (8, 7), (8, 2)]"
      ]
     },
     "execution_count": 194,
     "metadata": {},
     "output_type": "execute_result"
    }
   ],
   "source": [
    "res"
   ]
  },
  {
   "cell_type": "markdown",
   "id": "efea0d88",
   "metadata": {},
   "source": [
    "## Q95. Write a Python program to sort a list of tuples by second item.\n",
    "\n",
    "Input : [('for', 24), ('Geeks', 8), ('Geeks', 30)] \n",
    "Output : [('Geeks', 8), ('for', 24), ('Geeks', 30)]"
   ]
  },
  {
   "cell_type": "code",
   "execution_count": 195,
   "id": "ee9bedd4",
   "metadata": {},
   "outputs": [],
   "source": [
    "inp = [('for', 24), ('Geeks', 8), ('Geeks', 30)] \n",
    "def sorta(lst):\n",
    "    lst.sort(key = lambda a: a[1]) \n",
    "    return lst\n"
   ]
  },
  {
   "cell_type": "code",
   "execution_count": 196,
   "id": "4538a53b",
   "metadata": {},
   "outputs": [
    {
     "data": {
      "text/plain": [
       "[('Geeks', 8), ('for', 24), ('Geeks', 30)]"
      ]
     },
     "execution_count": 196,
     "metadata": {},
     "output_type": "execute_result"
    }
   ],
   "source": [
    "sorta(inp)"
   ]
  },
  {
   "cell_type": "markdown",
   "id": "f8b055bd",
   "metadata": {},
   "source": [
    "## Q96. Write a python program to print below pattern.\n",
    "\n",
    "'''* \n",
    "* * \n",
    "* * * '\n",
    "* * * * '\n",
    "* * * * *''' "
   ]
  },
  {
   "cell_type": "code",
   "execution_count": 198,
   "id": "9f827979",
   "metadata": {},
   "outputs": [
    {
     "name": "stdout",
     "output_type": "stream",
     "text": [
      "\n",
      " *\n",
      " * *\n",
      " * * *\n",
      " * * * *\n",
      " * * * * *\n"
     ]
    }
   ],
   "source": [
    "for i in range(6):\n",
    "    print(i*' *')"
   ]
  },
  {
   "cell_type": "markdown",
   "id": "1c74b036",
   "metadata": {},
   "source": [
    "## Q97. Write a python program to print below pattern.\n",
    "\n",
    "    *'\n",
    "   **'\n",
    "  ***'\n",
    " ****'\n",
    "*****'"
   ]
  },
  {
   "cell_type": "code",
   "execution_count": 207,
   "id": "8905e895",
   "metadata": {},
   "outputs": [
    {
     "name": "stdout",
     "output_type": "stream",
     "text": [
      "    *\n",
      "   **\n",
      "  ***\n",
      " ****\n",
      "*****\n"
     ]
    }
   ],
   "source": [
    "n = 1\n",
    "for i in range(5,0,-1):\n",
    "    print(str((i-1) * ' ') +str(n*'*'))\n",
    "    n = n+1"
   ]
  },
  {
   "cell_type": "markdown",
   "id": "c0c94e29",
   "metadata": {},
   "source": [
    "## Q98. Write a python program to print below pattern.\n",
    "\n",
    "    * \n",
    "   * * \n",
    "  * * * \n",
    " * * * * \n",
    "* * * * * "
   ]
  },
  {
   "cell_type": "code",
   "execution_count": 213,
   "id": "84ccac3b",
   "metadata": {},
   "outputs": [
    {
     "name": "stdout",
     "output_type": "stream",
     "text": [
      "        *   \n",
      "       *  *   \n",
      "      *  *  *   \n",
      "     *  *  *  *   \n",
      "    *  *  *  *  *   \n"
     ]
    }
   ],
   "source": [
    "rows = 5\n",
    "m = (2 * rows) - 2\n",
    "for i in range(0, rows):\n",
    "    for j in range(0, m):\n",
    "        print(end=\" \")\n",
    "    # decrementing m after each loop\n",
    "    m = m - 1\n",
    "    for j in range(0, i + 1):\n",
    "        print(\"* \", end=' ')\n",
    "    print(\" \")\n"
   ]
  },
  {
   "cell_type": "markdown",
   "id": "9d84d87b",
   "metadata": {},
   "source": [
    "## Q99. Write a python program to print below pattern.\n",
    "\n",
    "1 \n",
    "\n",
    "1 2 \n",
    "\n",
    "1 2 3 \n",
    "\n",
    "1 2 3 4 \n",
    "\n",
    "1 2 3 4 5"
   ]
  },
  {
   "cell_type": "code",
   "execution_count": 211,
   "id": "62754515",
   "metadata": {},
   "outputs": [
    {
     "name": "stdout",
     "output_type": "stream",
     "text": [
      "1  \n",
      "1 2  \n",
      "1 2 3  \n",
      "1 2 3 4  \n",
      "1 2 3 4 5  \n"
     ]
    }
   ],
   "source": [
    "rows = 5\n",
    "for i in range(1, rows + 1):\n",
    "    for j in range(1, i + 1):\n",
    "        print(j, end=' ')\n",
    "    print(' ')\n",
    "    "
   ]
  },
  {
   "cell_type": "markdown",
   "id": "dbd362c5",
   "metadata": {},
   "source": [
    "## Q100. Write a python program to print below pattern.\n",
    "\n",
    "A \n",
    "B B \n",
    "C C C \n",
    "D D D D \n",
    "E E E E E "
   ]
  },
  {
   "cell_type": "code",
   "execution_count": 218,
   "id": "f01ef267",
   "metadata": {},
   "outputs": [
    {
     "name": "stdout",
     "output_type": "stream",
     "text": [
      "A  \n",
      "B B  \n",
      "C C C  \n",
      "D D D D  \n",
      "E E E E E  \n"
     ]
    }
   ],
   "source": [
    "\n",
    "ascii_number = 65\n",
    "rows = 5\n",
    "for i in range(0, rows):\n",
    "    for j in range(0, i + 1):\n",
    "        character = chr(ascii_number)\n",
    "        print(character, end=' ')\n",
    "    ascii_number += 1\n",
    "    print(\" \")"
   ]
  },
  {
   "cell_type": "code",
   "execution_count": null,
   "id": "16925ba3",
   "metadata": {},
   "outputs": [],
   "source": []
  }
 ],
 "metadata": {
  "kernelspec": {
   "display_name": "Python 3",
   "language": "python",
   "name": "python3"
  },
  "language_info": {
   "codemirror_mode": {
    "name": "ipython",
    "version": 3
   },
   "file_extension": ".py",
   "mimetype": "text/x-python",
   "name": "python",
   "nbconvert_exporter": "python",
   "pygments_lexer": "ipython3",
   "version": "3.8.8"
  }
 },
 "nbformat": 4,
 "nbformat_minor": 5
}
