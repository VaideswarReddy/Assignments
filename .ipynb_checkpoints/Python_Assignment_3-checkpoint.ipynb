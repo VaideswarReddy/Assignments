{
 "cells": [
  {
   "cell_type": "markdown",
   "id": "2c354e77",
   "metadata": {},
   "source": [
    "## Q1. What is the purpose of Python's OOP?"
   ]
  },
  {
   "cell_type": "markdown",
   "id": "3cabaf9d",
   "metadata": {},
   "source": [
    "In Python, object-oriented Programming (OOPs) is a programming paradigm that uses objects and classes in programming. It aims to implement real-world entities like inheritance, polymorphisms, encapsulation, etc. in the programming."
   ]
  },
  {
   "cell_type": "markdown",
   "id": "b4f00b3a",
   "metadata": {},
   "source": [
    "## Q2. Where does an inheritance search look for an attribute?"
   ]
  },
  {
   "cell_type": "markdown",
   "id": "c0957152",
   "metadata": {},
   "source": [
    "An inheritance search looks for an attribute first in the instance object, then in the class the instance was created from, then in all higher superclasses, progressing from left to right (by default)."
   ]
  },
  {
   "cell_type": "markdown",
   "id": "961ed50d",
   "metadata": {},
   "source": [
    "## Q3. How do you distinguish between a class object and an instance object?"
   ]
  },
  {
   "cell_type": "markdown",
   "id": "732df227",
   "metadata": {},
   "source": [
    "A class is a template for creating objects in a program, whereas the object is an instance of a class. A class is a logical entity, while an object is a physical entity. A class does not allocate memory space; on the other hand, an object allocates memory space"
   ]
  },
  {
   "cell_type": "markdown",
   "id": "d22c5a2f",
   "metadata": {},
   "source": [
    "## Q4. What makes the first argument in a class’s method function special?"
   ]
  },
  {
   "cell_type": "markdown",
   "id": "d49fdbc3",
   "metadata": {},
   "source": [
    "The calling process is automatic while the receiving process is not (its explicit). This is the reason the first parameter of a function in class must be the object itself. Writing this parameter as self is kind of mandatory."
   ]
  },
  {
   "cell_type": "markdown",
   "id": "159be7c5",
   "metadata": {},
   "source": [
    "## Q5. What is the purpose of the init method?"
   ]
  },
  {
   "cell_type": "markdown",
   "id": "3206a8c3",
   "metadata": {},
   "source": [
    "The __init__ method lets the class initialize the object's attributes and serves no other purpose. It is only used within classes."
   ]
  },
  {
   "cell_type": "markdown",
   "id": "efa9f47b",
   "metadata": {},
   "source": [
    "## Q6. What is the process for creating a class instance?"
   ]
  },
  {
   "cell_type": "markdown",
   "id": "140a0396",
   "metadata": {},
   "source": [
    "To create instances of a class, you call the class using class name and pass in whatever arguments its __init__ method accepts."
   ]
  },
  {
   "cell_type": "markdown",
   "id": "a3a0b634",
   "metadata": {},
   "source": [
    "## Q7. What is the process for creating a class?"
   ]
  },
  {
   "cell_type": "markdown",
   "id": "c562de6c",
   "metadata": {},
   "source": [
    "We should start creating classby using class keyword follwed by name of the clss and the define __init__ method for taking parameters and then can define other methods"
   ]
  },
  {
   "cell_type": "markdown",
   "id": "cffe8a74",
   "metadata": {},
   "source": [
    "## Q8. How would you define the superclasses of a class?"
   ]
  },
  {
   "cell_type": "markdown",
   "id": "77b6e727",
   "metadata": {},
   "source": [
    "The class from which a class inherits is called the parent or superclass. A class which inherits from a superclass is called a subclass, also called heir class or child class. "
   ]
  },
  {
   "cell_type": "markdown",
   "id": "ff19cb9d",
   "metadata": {},
   "source": [
    "## Q9. What is the relationship between classes and modules?\n",
    "\n"
   ]
  },
  {
   "cell_type": "markdown",
   "id": "a62a8878",
   "metadata": {},
   "source": [
    "A class can be implemented in one or more . py files (modules). But often, we can organize a set of variables and functions into a class definition or just simply put them in a . py file and call it a module."
   ]
  },
  {
   "cell_type": "markdown",
   "id": "50fd90d2",
   "metadata": {},
   "source": [
    "## Q10. How do you make instances and classes?\n",
    "\n"
   ]
  },
  {
   "cell_type": "markdown",
   "id": "0d3116c9",
   "metadata": {},
   "source": [
    "To create instances of a class, you call the class using class name and pass in whatever arguments its __init__ method accepts"
   ]
  },
  {
   "cell_type": "markdown",
   "id": "b1a01d22",
   "metadata": {},
   "source": [
    "## Q11. Where and how should be class attributes created?"
   ]
  },
  {
   "cell_type": "markdown",
   "id": "faa456b5",
   "metadata": {},
   "source": [
    "class attributes are defined in the __init__() function."
   ]
  },
  {
   "cell_type": "markdown",
   "id": "73e534e8",
   "metadata": {},
   "source": [
    "## Q12. Where and how are instance attributes created?"
   ]
  },
  {
   "cell_type": "markdown",
   "id": "bd417e2a",
   "metadata": {},
   "source": [
    "Instance attributes are defined in the constructor. Defined directly inside a class. Defined inside a constructor using the self parameter."
   ]
  },
  {
   "cell_type": "markdown",
   "id": "1186ff3b",
   "metadata": {},
   "source": [
    "## Q13. What does the term \"self\" in a Python class mean?"
   ]
  },
  {
   "cell_type": "markdown",
   "id": "bb957298",
   "metadata": {},
   "source": [
    "self represents the instance of the class. By using the “self” we can access the attributes and methods of the class in python"
   ]
  },
  {
   "cell_type": "markdown",
   "id": "0ef9ff16",
   "metadata": {},
   "source": [
    "## Q14. How does a Python class handle operator overloading?"
   ]
  },
  {
   "cell_type": "markdown",
   "id": "452aa1c8",
   "metadata": {},
   "source": [
    "Operator Overloading means giving extended meaning beyond their predefined operational meaning.Such as, we use the \"+\" operator for adding two integers as well as joining two strings or merging two lists. We can achieve this as the \"+\" operator is overloaded by the \"int\" class and \"str\" class."
   ]
  },
  {
   "cell_type": "markdown",
   "id": "f90b967e",
   "metadata": {},
   "source": [
    "## Q15. When do you consider allowing operator overloading of your classes?"
   ]
  },
  {
   "cell_type": "markdown",
   "id": "498cc0f0",
   "metadata": {},
   "source": [
    "We use operators when we need to perform some calculations "
   ]
  },
  {
   "cell_type": "markdown",
   "id": "3750b7a8",
   "metadata": {},
   "source": [
    "## Q16. What is the most popular form of operator overloading?"
   ]
  },
  {
   "cell_type": "markdown",
   "id": "1947f911",
   "metadata": {},
   "source": [
    "A very popular and convenient example is the Addition (+) operator."
   ]
  },
  {
   "cell_type": "markdown",
   "id": "57e0bd93",
   "metadata": {},
   "source": [
    "## Q17. What are the two most important concepts to grasp in order to comprehend Python OOP code?"
   ]
  },
  {
   "cell_type": "markdown",
   "id": "fbce1004",
   "metadata": {},
   "source": [
    "The two important concepts are inheritence and polymorphism"
   ]
  },
  {
   "cell_type": "markdown",
   "id": "3af9a14e",
   "metadata": {},
   "source": [
    "## Q18. Describe three applications for exception processing."
   ]
  },
  {
   "cell_type": "markdown",
   "id": "a1a0f954",
   "metadata": {},
   "source": [
    "An exception is an event, which occurs during the execution of a program that disrupts the normal flow of the program's instructions. In general, when a Python script encounters a situation that it cannot cope with, it raises an exception. An exception is a Python object that represents an error.\n",
    "\n",
    "three blocks are **try** **except and else**\n",
    "\n",
    "when we need to handle error without quitting the program"
   ]
  },
  {
   "cell_type": "markdown",
   "id": "a044cc3c",
   "metadata": {},
   "source": [
    "## Q19. What happens if you don't do something extra to treat an exception?"
   ]
  },
  {
   "cell_type": "markdown",
   "id": "985ec23f",
   "metadata": {},
   "source": [
    "The program gets terminated and the code next to that line will not be executed"
   ]
  },
  {
   "cell_type": "markdown",
   "id": "5b230fcf",
   "metadata": {},
   "source": [
    "## Q20. What are your options for recovering from an exception in your script?"
   ]
  },
  {
   "cell_type": "markdown",
   "id": "b54eb575",
   "metadata": {},
   "source": [
    "try,except and else arethree options to handle exceptions"
   ]
  },
  {
   "cell_type": "markdown",
   "id": "92529d39",
   "metadata": {},
   "source": [
    "## Q21. Describe two methods for triggering exceptions in your script."
   ]
  },
  {
   "cell_type": "markdown",
   "id": "40d31061",
   "metadata": {},
   "source": [
    "Raise is used to trigger an exception, We can use Rasie Valueerror or Raise exception"
   ]
  },
  {
   "cell_type": "markdown",
   "id": "5438c277",
   "metadata": {},
   "source": [
    "## Q22. Identify two methods for specifying actions to be executed at termination time, regardless of whether or not an exception exists"
   ]
  },
  {
   "cell_type": "markdown",
   "id": "7d10303b",
   "metadata": {},
   "source": [
    "finally and else"
   ]
  },
  {
   "cell_type": "markdown",
   "id": "92d56224",
   "metadata": {},
   "source": [
    "## Q23. What is the purpose of the try statement?"
   ]
  },
  {
   "cell_type": "markdown",
   "id": "cae49d8c",
   "metadata": {},
   "source": [
    "The try statement allows you to define a block of code to be tested for errors while it is being executed. "
   ]
  },
  {
   "cell_type": "markdown",
   "id": "d17ade1c",
   "metadata": {},
   "source": [
    "## Q24. What are the two most popular try statement variations?"
   ]
  },
  {
   "cell_type": "markdown",
   "id": "68a679f1",
   "metadata": {},
   "source": [
    "There are two other optional segments to a try block: else and finally ."
   ]
  },
  {
   "cell_type": "markdown",
   "id": "37905da5",
   "metadata": {},
   "source": [
    "## Q25. What is the purpose of the raise statement?"
   ]
  },
  {
   "cell_type": "markdown",
   "id": "62cbe193",
   "metadata": {},
   "source": [
    "The raise keyword is used to raise an exception. You can define what kind of error to raise, and the text to print to the user."
   ]
  },
  {
   "cell_type": "markdown",
   "id": "2af92f2d",
   "metadata": {},
   "source": [
    "## Q26. What does the assert statement do, and what other statement is it like?"
   ]
  },
  {
   "cell_type": "markdown",
   "id": "90b8a8ed",
   "metadata": {},
   "source": [
    "assert statement takes an expression and optional message. assert statement is used to check types, values of argument and the output of the function. assert statement is used as debugging tool as it halts the program at the point where an error occurs."
   ]
  },
  {
   "cell_type": "markdown",
   "id": "2df4b802",
   "metadata": {},
   "source": [
    "## Q27. What is the purpose of the with/as argument, and what other statement is it like?"
   ]
  },
  {
   "cell_type": "markdown",
   "id": "d9684b2f",
   "metadata": {},
   "source": [
    "In Python, with statement is used in exception handling to make the code cleaner and much more readable. It simplifies the management of common resources like file streams."
   ]
  },
  {
   "cell_type": "markdown",
   "id": "59f796ae",
   "metadata": {},
   "source": [
    "## Q28. What are *args, **kwargs?"
   ]
  },
  {
   "cell_type": "markdown",
   "id": "ff171e7b",
   "metadata": {},
   "source": [
    "*args specifies the number of non-keyworded arguments that can be passed and the operations that can be performed on the function in Python whereas **kwargs is a variable number of keyworded arguments that can be passed to a function that can perform dictionary operations."
   ]
  },
  {
   "cell_type": "markdown",
   "id": "ae4d7342",
   "metadata": {},
   "source": [
    "## Q29. How can I pass optional or keyword parameters from one function to another?"
   ]
  },
  {
   "cell_type": "markdown",
   "id": "4cd67182",
   "metadata": {},
   "source": [
    "To pass optional or keyword parameters from one function to another, collect the arguments using the * and ** specifiers in the function’s parameter list "
   ]
  },
  {
   "cell_type": "markdown",
   "id": "0f8b3f11",
   "metadata": {},
   "source": [
    "## Q30. What are Lambda Functions?"
   ]
  },
  {
   "cell_type": "markdown",
   "id": "4603193c",
   "metadata": {},
   "source": [
    "A lambda function is an anonymous function (i.e., defined without a name) that can take any number of arguments but, unlike normal functions, evaluates and returns only one expression. "
   ]
  },
  {
   "cell_type": "markdown",
   "id": "5c44b1ab",
   "metadata": {},
   "source": [
    "## Q31. Explain Inheritance in Python with an example?"
   ]
  },
  {
   "cell_type": "markdown",
   "id": "f347ea27",
   "metadata": {},
   "source": [
    "Inheritance relationship defines the classes that inherit from other classes as derived, subclass, or sub-type classes. Base class remains to be the source from which a subclass inherits. For example, you have a Base class of “Animal,” and a “Lion” is a Derived class. The inheritance will be Lion is an Animal."
   ]
  },
  {
   "cell_type": "markdown",
   "id": "0a78db64",
   "metadata": {},
   "source": [
    "## Q32. Suppose class C inherits from classes A and B as class C(A,B).Classes A and B both have their own versions of method func(). If we call func() from an object of class C, which version gets invoked?"
   ]
  },
  {
   "cell_type": "markdown",
   "id": "783d8021",
   "metadata": {},
   "source": [
    "it gets invoked from class A"
   ]
  },
  {
   "cell_type": "markdown",
   "id": "35917413",
   "metadata": {},
   "source": [
    "## Q33. Which methods/functions do we use to determine the type of instance and inheritance?"
   ]
  },
  {
   "cell_type": "markdown",
   "id": "703879ea",
   "metadata": {},
   "source": [
    "The isinstance() method checks whether an object is an instance of a class whereas issubclass() method asks whether one class is a subclass of another class (or other classes)."
   ]
  },
  {
   "cell_type": "markdown",
   "id": "ec58463c",
   "metadata": {},
   "source": [
    "## Q34.Explain the use of the 'nonlocal' keyword in Python."
   ]
  },
  {
   "cell_type": "markdown",
   "id": "f19bde23",
   "metadata": {},
   "source": [
    "The nonlocal keyword is used to work with variables inside nested functions, where the variable should not belong to the inner function. "
   ]
  },
  {
   "cell_type": "markdown",
   "id": "c31bc3b1",
   "metadata": {},
   "source": [
    "## Q35. What is the global keyword?"
   ]
  },
  {
   "cell_type": "markdown",
   "id": "e8d28103",
   "metadata": {},
   "source": [
    "The global keyword is used to create global variables from a no-global scope, e.g. inside a function."
   ]
  },
  {
   "cell_type": "code",
   "execution_count": null,
   "id": "ddc1fd5c",
   "metadata": {},
   "outputs": [],
   "source": []
  }
 ],
 "metadata": {
  "kernelspec": {
   "display_name": "Python 3",
   "language": "python",
   "name": "python3"
  },
  "language_info": {
   "codemirror_mode": {
    "name": "ipython",
    "version": 3
   },
   "file_extension": ".py",
   "mimetype": "text/x-python",
   "name": "python",
   "nbconvert_exporter": "python",
   "pygments_lexer": "ipython3",
   "version": "3.8.8"
  }
 },
 "nbformat": 4,
 "nbformat_minor": 5
}
